{
 "cells": [
  {
   "cell_type": "markdown",
   "metadata": {},
   "source": [
    "# Import libraries and get start "
   ]
  },
  {
   "cell_type": "code",
   "execution_count": null,
   "metadata": {},
   "outputs": [],
   "source": [
    "import selenium\n",
    "import time\n",
    "import pandas as pd\n",
    "import numpy as np\n",
    "from time import sleep\n",
    "from selenium import webdriver as wb\n",
    "from tqdm import tqdm\n",
    "\n",
    "import warnings\n",
    "from warnings import simplefilter\n",
    "warnings.filterwarnings('ignore')\n",
    "simplefilter(action='ignore', category=FutureWarning)\n",
    "\n",
    "pd.set_option('display.max_columns', None)"
   ]
  },
  {
   "cell_type": "markdown",
   "metadata": {},
   "source": [
    "# Scraping Premier League site"
   ]
  },
  {
   "cell_type": "code",
   "execution_count": null,
   "metadata": {},
   "outputs": [],
   "source": [
    "mlinks = pd.read_excel('Your Path Here')\n",
    "mlinks.drop(['Unnamed: 0'], axis=1, inplace=True)\n",
    "mlinks.head()"
   ]
  },
  {
   "cell_type": "code",
   "execution_count": null,
   "metadata": {},
   "outputs": [],
   "source": [
    "#Website link\n",
    "wd = wb.Chrome(executable_path=r'Your Path Here')\n",
    "wd.get('https://www.premierleague.com/')"
   ]
  },
  {
   "cell_type": "code",
   "execution_count": null,
   "metadata": {},
   "outputs": [],
   "source": [
    "# Cria uma lista com os links de cada partida\n",
    "list_mlinks = mlinks['link_match']\n",
    "\n",
    "# Cria dois objetos vazios, que serão onde armazenaremos os resultados obtidos\n",
    "data_matches = []\n",
    "data_h2h = []\n",
    "\n",
    "# Inicia o loop para percorrer todos os links\n",
    "for link in tqdm(list_mlinks):\n",
    "    wd.get(link) #acessa o link da partida\n",
    "    time.sleep(1) #comando para aguardar a página carregar (1 segundo)\n",
    "    \n",
    "    # Cria uma variável que vai receber informações da página do jogo, como nome das equipes, resultado, etc.\n",
    "    home_team = wd.find_element_by_xpath('//*[@id=\"mainContent\"]/div/section[2]/div[2]/section/div[3]/div/div/div[1]/div[1]/a[2]/span[1]').text\n",
    "    away_team = wd.find_element_by_xpath('//*[@id=\"mainContent\"]/div/section[2]/div[2]/section/div[3]/div/div/div[1]/div[3]/a[2]/span[1]').text\n",
    "    result_full = wd.find_element_by_xpath('//*[@id=\"mainContent\"]/div/section[2]/div[2]/section/div[3]/div/div/div[1]/div[2]/div/div').text\n",
    "    result_ht = wd.find_element_by_xpath('//*[@id=\"mainContent\"]/div/section[2]/div[2]/section/div[3]/div/div/div[2]/div').text\n",
    "    season = mlinks.loc[(mlinks['link_match'] == link),['season']].iloc[0]['season']\n",
    "    date = wd.find_element_by_xpath('//*[@id=\"mainContent\"]/div/section[2]/div[2]/section/div[1]/div/div[1]/div[1]').text\n",
    "    link_match = link\n",
    "    \n",
    "    # Clica na aba de Stats da partida\n",
    "    wd.find_element_by_xpath('//*[@id=\"mainContent\"]/div/section[2]/div[2]/div[2]/div[1]/div/div/ul/li[3]').click()\n",
    "    \n",
    "###########################################################################################################################    \n",
    "    # Clica na sub-seção Stats Match\n",
    "    wd.find_element_by_xpath('//*[@id=\"mainContent\"]/div/section[2]/div[2]/div[2]/div[2]/section[3]/div[1]/ul/ul/li[2]').click()\n",
    "    time.sleep(1)\n",
    "    \n",
    "    # Recebe o elemento da página que contém todos os elementos de scouts da partida\n",
    "    stats = wd.find_element_by_xpath('//*[@id=\"mainContent\"]/div/section[2]/div[2]/div[2]/div[2]/section[3]/div[2]/div[2]/table/tbody')\n",
    "    stats2 = stats.find_elements_by_tag_name('tr') \n",
    "    \n",
    "    # Loop que vai selecionar cada elemento de scouts da partida e salvar em suas respectivas variáveis\n",
    "    for s in stats2:\n",
    "        scout = s.find_elements_by_tag_name('td')[1].text\n",
    "        scout_home = s.find_elements_by_tag_name('td')[0].text\n",
    "        scout_away = s.find_elements_by_tag_name('td')[2].text\n",
    "        \n",
    "        # Estrutura temporário de dados que vai armazenar em cada linha um scout juntamente com as demais informações da partida.\n",
    "        temp_data = {'season': season,\n",
    "                    'date': date,\n",
    "                    'home_team': home_team,\n",
    "                    'away_team': away_team,\n",
    "                    'result_full': result_full,\n",
    "                    'result_ht':  result_ht,\n",
    "                    'scout': scout,\n",
    "                    'scout_home': scout_home,\n",
    "                    'scout_away': scout_away,\n",
    "                    'link_match': link_match}\n",
    "        \n",
    "        # Insere os dados temporários no objeto final com todas as partidas.\n",
    "        data_matches.append(temp_data)\n",
    "        \n",
    "    # Clica na sub-seção Head to Head\n",
    "    wd.find_element_by_xpath('//*[@id=\"mainContent\"]/div/section[2]/div[2]/div[2]/div[2]/section[3]/div[1]/ul/ul/li[1]').click()\n",
    "    \n",
    "    # Cria uma variável que vai receber informações do histórico de confrontos das equipes.\n",
    "    h2h_played = wd.find_element_by_xpath('//*[@id=\"mainContent\"]/div/section[2]/div[2]/div[2]/div[2]/section[3]/div[2]/div[1]/div[1]/div/div[1]/section/div[3]/p[2]').text\n",
    "    h2h_draw = wd.find_element_by_xpath('//*[@id=\"mainContent\"]/div/section[2]/div[2]/div[2]/div[2]/section[3]/div[2]/div[1]/div[1]/div/div[1]/section/div[3]/p[3]/span').text\n",
    "    h2h_home_total_wins = wd.find_element_by_xpath('//*[@id=\"mainContent\"]/div/section[2]/div[2]/div[2]/div[2]/section[3]/div[2]/div[1]/div[1]/div/div[1]/section/div[1]/div[1]/div[1]/div[2]').text\n",
    "    h2h_away_total_wins = wd.find_element_by_xpath('//*[@id=\"mainContent\"]/div/section[2]/div[2]/div[2]/div[2]/section[3]/div[2]/div[1]/div[1]/div/div[1]/section/div[2]/div[1]/div[1]/div[2]').text\n",
    "    h2h_home_wins_home = wd.find_element_by_xpath('//*[@id=\"mainContent\"]/div/section[2]/div[2]/div[2]/div[2]/section[3]/div[2]/div[1]/div[1]/div/div[1]/section/div[1]/div[2]/div[1]/div[2]').text\n",
    "    h2h_away_wins_home = wd.find_element_by_xpath('//*[@id=\"mainContent\"]/div/section[2]/div[2]/div[2]/div[2]/section[3]/div[2]/div[1]/div[1]/div/div[1]/section/div[2]/div[2]/div[1]/div[2]').text\n",
    "    h2h_home_wins_away = wd.find_element_by_xpath('//*[@id=\"mainContent\"]/div/section[2]/div[2]/div[2]/div[2]/section[3]/div[2]/div[1]/div[1]/div/div[1]/section/div[1]/div[3]/div[1]/div[2]').text\n",
    "    h2h_away_wins_away = wd.find_element_by_xpath('//*[@id=\"mainContent\"]/div/section[2]/div[2]/div[2]/div[2]/section[3]/div[2]/div[1]/div[1]/div/div[1]/section/div[2]/div[3]/div[1]/div[2]').text\n",
    "    \n",
    "    # Estrutura temporário de dados que vai armazenar em cada linha as informações dos confrontos entre as equipes.\n",
    "    temp_data2 = {'link_match': link_match,\n",
    "                  'h2h_played': h2h_played,\n",
    "                  'h2h_draw': h2h_draw,\n",
    "                  'h2h_home_total_wins': h2h_home_total_wins,\n",
    "                  'h2h_away_total_wins': h2h_away_total_wins,\n",
    "                  'h2h_home_wins_home': h2h_home_wins_home,\n",
    "                  'h2h_away_wins_home': h2h_away_wins_home,\n",
    "                  'h2h_home_wins_away': h2h_home_wins_away,\n",
    "                  'h2h_away_wins_away': h2h_away_wins_away}\n",
    "    \n",
    "    # Insere os dados temporários no objeto final com todas as partidas.\n",
    "    data_h2h.append(temp_data2)\n",
    "        \n",
    "df_matches = pd.DataFrame(data_matches)\n",
    "df_h2h = pd.DataFrame(data_h2h)  "
   ]
  }
 ],
 "metadata": {
  "kernelspec": {
   "display_name": "Python 3",
   "language": "python",
   "name": "python3"
  },
  "language_info": {
   "codemirror_mode": {
    "name": "ipython",
    "version": 3
   },
   "file_extension": ".py",
   "mimetype": "text/x-python",
   "name": "python",
   "nbconvert_exporter": "python",
   "pygments_lexer": "ipython3",
   "version": "3.7.4"
  },
  "toc": {
   "base_numbering": 1,
   "nav_menu": {},
   "number_sections": true,
   "sideBar": true,
   "skip_h1_title": false,
   "title_cell": "Table of Contents",
   "title_sidebar": "Contents",
   "toc_cell": false,
   "toc_position": {
    "height": "622.667px",
    "left": "298px",
    "top": "109.778px",
    "width": "239.306px"
   },
   "toc_section_display": true,
   "toc_window_display": true
  }
 },
 "nbformat": 4,
 "nbformat_minor": 4
}
